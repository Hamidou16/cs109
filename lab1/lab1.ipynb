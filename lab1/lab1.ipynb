{
 "cells": [
  {
   "cell_type": "markdown",
   "metadata": {},
   "source": [
    "# *Introduction to Pandas*"
   ]
  },
  {
   "cell_type": "code",
   "execution_count": 1,
   "metadata": {},
   "outputs": [],
   "source": [
    "%matplotlib inline\n",
    "# imports a fast numerical programming library\n",
    "import numpy as np\n",
    "# imports stats functions, amongst other things\n",
    "import scipy as sp \n",
    "# imports matplotlib\n",
    "import matplotlib as mpl\n",
    "# allows us easy access to colormaps\n",
    "import matplotlib.cm as cm \n",
    "# sets up plotting under plt\n",
    "import matplotlib.pyplot as plt\n",
    "# let's us hamdle data as dataframes\n",
    "import pandas as pd\n"
   ]
  },
  {
   "cell_type": "code",
   "execution_count": 51,
   "metadata": {},
   "outputs": [],
   "source": [
    "# sets up pandas table display\n",
    "pd.set_option('display.width', 500)\n",
    "pd.set_option('display.max_columns', 200)\n",
    "pd.set_option('display.notebook_repr_html', True)"
   ]
  },
  {
   "cell_type": "markdown",
   "metadata": {},
   "source": [
    "## 1. Load the data\n",
    "We'll read in some data from a CSV file. CSV files can be output by any spreadsheet software, and are plain text, so make a great way to share data. This dataset is scraped from *Goodreads*."
   ]
  },
  {
   "cell_type": "code",
   "execution_count": 3,
   "metadata": {},
   "outputs": [
    {
     "data": {
      "text/html": [
       "<div>\n",
       "<style scoped>\n",
       "    .dataframe tbody tr th:only-of-type {\n",
       "        vertical-align: middle;\n",
       "    }\n",
       "\n",
       "    .dataframe tbody tr th {\n",
       "        vertical-align: top;\n",
       "    }\n",
       "\n",
       "    .dataframe thead th {\n",
       "        text-align: right;\n",
       "    }\n",
       "</style>\n",
       "<table border=\"1\" class=\"dataframe\">\n",
       "  <thead>\n",
       "    <tr style=\"text-align: right;\">\n",
       "      <th></th>\n",
       "      <th>rating</th>\n",
       "      <th>review_count</th>\n",
       "      <th>isbn</th>\n",
       "      <th>booktype</th>\n",
       "      <th>author_url</th>\n",
       "      <th>year</th>\n",
       "      <th>genre_urls</th>\n",
       "      <th>dir</th>\n",
       "      <th>rating_count</th>\n",
       "      <th>name</th>\n",
       "    </tr>\n",
       "  </thead>\n",
       "  <tbody>\n",
       "    <tr>\n",
       "      <th>0</th>\n",
       "      <td>4.40</td>\n",
       "      <td>136455.0</td>\n",
       "      <td>0439023483</td>\n",
       "      <td>good_reads:book</td>\n",
       "      <td>https://www.goodreads.com/author/show/153394.S...</td>\n",
       "      <td>2008.0</td>\n",
       "      <td>/genres/young-adult|/genres/science-fiction|/g...</td>\n",
       "      <td>dir01/2767052-the-hunger-games.html</td>\n",
       "      <td>2958974.0</td>\n",
       "      <td>The Hunger Games (The Hunger Games, #1)</td>\n",
       "    </tr>\n",
       "    <tr>\n",
       "      <th>1</th>\n",
       "      <td>4.41</td>\n",
       "      <td>16648.0</td>\n",
       "      <td>0439358078</td>\n",
       "      <td>good_reads:book</td>\n",
       "      <td>https://www.goodreads.com/author/show/1077326....</td>\n",
       "      <td>2003.0</td>\n",
       "      <td>/genres/fantasy|/genres/young-adult|/genres/fi...</td>\n",
       "      <td>dir01/2.Harry_Potter_and_the_Order_of_the_Phoe...</td>\n",
       "      <td>1284478.0</td>\n",
       "      <td>Harry Potter and the Order of the Phoenix (Har...</td>\n",
       "    </tr>\n",
       "    <tr>\n",
       "      <th>2</th>\n",
       "      <td>3.56</td>\n",
       "      <td>85746.0</td>\n",
       "      <td>0316015849</td>\n",
       "      <td>good_reads:book</td>\n",
       "      <td>https://www.goodreads.com/author/show/941441.S...</td>\n",
       "      <td>2005.0</td>\n",
       "      <td>/genres/young-adult|/genres/fantasy|/genres/ro...</td>\n",
       "      <td>dir01/41865.Twilight.html</td>\n",
       "      <td>2579564.0</td>\n",
       "      <td>Twilight (Twilight, #1)</td>\n",
       "    </tr>\n",
       "    <tr>\n",
       "      <th>3</th>\n",
       "      <td>4.23</td>\n",
       "      <td>47906.0</td>\n",
       "      <td>0061120081</td>\n",
       "      <td>good_reads:book</td>\n",
       "      <td>https://www.goodreads.com/author/show/1825.Har...</td>\n",
       "      <td>1960.0</td>\n",
       "      <td>/genres/classics|/genres/fiction|/genres/histo...</td>\n",
       "      <td>dir01/2657.To_Kill_a_Mockingbird.html</td>\n",
       "      <td>2078123.0</td>\n",
       "      <td>To Kill a Mockingbird</td>\n",
       "    </tr>\n",
       "    <tr>\n",
       "      <th>4</th>\n",
       "      <td>4.23</td>\n",
       "      <td>34772.0</td>\n",
       "      <td>0679783261</td>\n",
       "      <td>good_reads:book</td>\n",
       "      <td>https://www.goodreads.com/author/show/1265.Jan...</td>\n",
       "      <td>1813.0</td>\n",
       "      <td>/genres/classics|/genres/fiction|/genres/roman...</td>\n",
       "      <td>dir01/1885.Pride_and_Prejudice.html</td>\n",
       "      <td>1388992.0</td>\n",
       "      <td>Pride and Prejudice</td>\n",
       "    </tr>\n",
       "  </tbody>\n",
       "</table>\n",
       "</div>"
      ],
      "text/plain": [
       "   rating  review_count        isbn         booktype                                         author_url    year                                         genre_urls                                                dir  rating_count                                               name\n",
       "0    4.40      136455.0  0439023483  good_reads:book  https://www.goodreads.com/author/show/153394.S...  2008.0  /genres/young-adult|/genres/science-fiction|/g...                dir01/2767052-the-hunger-games.html     2958974.0            The Hunger Games (The Hunger Games, #1)\n",
       "1    4.41       16648.0  0439358078  good_reads:book  https://www.goodreads.com/author/show/1077326....  2003.0  /genres/fantasy|/genres/young-adult|/genres/fi...  dir01/2.Harry_Potter_and_the_Order_of_the_Phoe...     1284478.0  Harry Potter and the Order of the Phoenix (Har...\n",
       "2    3.56       85746.0  0316015849  good_reads:book  https://www.goodreads.com/author/show/941441.S...  2005.0  /genres/young-adult|/genres/fantasy|/genres/ro...                          dir01/41865.Twilight.html     2579564.0                            Twilight (Twilight, #1)\n",
       "3    4.23       47906.0  0061120081  good_reads:book  https://www.goodreads.com/author/show/1825.Har...  1960.0  /genres/classics|/genres/fiction|/genres/histo...              dir01/2657.To_Kill_a_Mockingbird.html     2078123.0                              To Kill a Mockingbird\n",
       "4    4.23       34772.0  0679783261  good_reads:book  https://www.goodreads.com/author/show/1265.Jan...  1813.0  /genres/classics|/genres/fiction|/genres/roman...                dir01/1885.Pride_and_Prejudice.html     1388992.0                                Pride and Prejudice"
      ]
     },
     "execution_count": 3,
     "metadata": {},
     "output_type": "execute_result"
    }
   ],
   "source": [
    "df = pd.read_csv('./data/all.csv', header=None,\n",
    "                 names=['rating', 'review_count', 'isbn', 'booktype', \n",
    "                        'author_url', 'year', 'genre_urls', 'dir', \n",
    "                        'rating_count', 'name'])\n",
    "df.head()"
   ]
  },
  {
   "cell_type": "markdown",
   "metadata": {},
   "source": [
    "We have a table! A spreadsheet! And it indexed the rows.<br>\n",
    "`df` is an instance of the `pd.DataFrame` class, creating by calling the `pd.read_csv` function, which calls the `DataFrame constructor` inside of it. What you need to take away is that `df` is a dataframe object, and it has `methods`, or `functions` belonging to it, which allow it to do things; for e.g. `df.head()` is a method that shows the first 5 rows of the dataframe.\n",
    "\n",
    "<img src='./data/dataframe-object.png' width=700 height=400>"
   ]
  },
  {
   "cell_type": "markdown",
   "metadata": {},
   "source": [
    "## 2. The basics"
   ]
  },
  {
   "cell_type": "code",
   "execution_count": 5,
   "metadata": {},
   "outputs": [
    {
     "data": {
      "text/plain": [
       "rating          float64\n",
       "review_count    float64\n",
       "isbn             object\n",
       "booktype         object\n",
       "author_url       object\n",
       "year            float64\n",
       "genre_urls       object\n",
       "dir              object\n",
       "rating_count    float64\n",
       "name             object\n",
       "dtype: object"
      ]
     },
     "execution_count": 5,
     "metadata": {},
     "output_type": "execute_result"
    }
   ],
   "source": [
    "df.dtypes"
   ]
  },
  {
   "cell_type": "code",
   "execution_count": 6,
   "metadata": {},
   "outputs": [
    {
     "data": {
      "text/plain": [
       "(6000, 10)"
      ]
     },
     "execution_count": 6,
     "metadata": {},
     "output_type": "execute_result"
    }
   ],
   "source": [
    "df.shape"
   ]
  },
  {
   "cell_type": "markdown",
   "metadata": {},
   "source": [
    "6000 rows times 10 columns. A spreadsheet is a table, is a matrix. How can we access members of this `tuple`:"
   ]
  },
  {
   "cell_type": "code",
   "execution_count": 7,
   "metadata": {},
   "outputs": [
    {
     "data": {
      "text/plain": [
       "(6000, 10)"
      ]
     },
     "execution_count": 7,
     "metadata": {},
     "output_type": "execute_result"
    }
   ],
   "source": [
    "df.shape[0], df.shape[1]"
   ]
  },
  {
   "cell_type": "markdown",
   "metadata": {},
   "source": [
    "These are the column names:"
   ]
  },
  {
   "cell_type": "code",
   "execution_count": 8,
   "metadata": {},
   "outputs": [
    {
     "data": {
      "text/plain": [
       "Index(['rating', 'review_count', 'isbn', 'booktype', 'author_url', 'year', 'genre_urls', 'dir', 'rating_count', 'name'], dtype='object')"
      ]
     },
     "execution_count": 8,
     "metadata": {},
     "output_type": "execute_result"
    }
   ],
   "source": [
    "df.columns"
   ]
  },
  {
   "cell_type": "markdown",
   "metadata": {},
   "source": [
    "As the diagram above shows, `Pandas` considers a table (dataframe) as a pasting of many 'series' together, horizontally."
   ]
  },
  {
   "cell_type": "code",
   "execution_count": 9,
   "metadata": {},
   "outputs": [
    {
     "data": {
      "text/plain": [
       "(pandas.core.series.Series, pandas.core.frame.DataFrame)"
      ]
     },
     "execution_count": 9,
     "metadata": {},
     "output_type": "execute_result"
    }
   ],
   "source": [
    "type(df.rating), type(df)"
   ]
  },
  {
   "cell_type": "markdown",
   "metadata": {},
   "source": [
    "## 3. Quering\n",
    "A spreadsheet is useless if you can't dice/sort/etc it. Here we look for all books with a rating less than 3:"
   ]
  },
  {
   "cell_type": "code",
   "execution_count": 10,
   "metadata": {},
   "outputs": [
    {
     "data": {
      "text/plain": [
       "0       False\n",
       "1       False\n",
       "2       False\n",
       "3       False\n",
       "4       False\n",
       "        ...  \n",
       "5995    False\n",
       "5996    False\n",
       "5997    False\n",
       "5998    False\n",
       "5999    False\n",
       "Name: rating, Length: 6000, dtype: bool"
      ]
     },
     "execution_count": 10,
     "metadata": {},
     "output_type": "execute_result"
    }
   ],
   "source": [
    "df.rating < 3"
   ]
  },
  {
   "cell_type": "markdown",
   "metadata": {},
   "source": [
    "This gives us `True`s and `False`s. Such a series is called a *mask*. If we count the number of `True`s, and divide by the total, we'll get the fraction of `ratings < 3`:"
   ]
  },
  {
   "cell_type": "code",
   "execution_count": 11,
   "metadata": {},
   "outputs": [
    {
     "data": {
      "text/plain": [
       "np.int64(4)"
      ]
     },
     "execution_count": 11,
     "metadata": {},
     "output_type": "execute_result"
    }
   ],
   "source": [
    "np.sum(df.rating < 3)"
   ]
  },
  {
   "cell_type": "code",
   "execution_count": 12,
   "metadata": {},
   "outputs": [
    {
     "data": {
      "text/plain": [
       "np.float64(0.0006666666666666666)"
      ]
     },
     "execution_count": 12,
     "metadata": {},
     "output_type": "execute_result"
    }
   ],
   "source": [
    "np.sum(df.rating < 3) / df.shape[0] # or np.mean(df.rating < 3)"
   ]
  },
  {
   "cell_type": "code",
   "execution_count": 13,
   "metadata": {},
   "outputs": [
    {
     "data": {
      "text/plain": [
       "np.float64(0.0006666666666666666)"
      ]
     },
     "execution_count": 13,
     "metadata": {},
     "output_type": "execute_result"
    }
   ],
   "source": [
    "# Directly in Pandas\n",
    "(df.rating < 3).mean()"
   ]
  },
  {
   "cell_type": "markdown",
   "metadata": {},
   "source": [
    "## 4. Filtering\n",
    "Here are two ways to get a filtered dataframe:"
   ]
  },
  {
   "cell_type": "code",
   "execution_count": 14,
   "metadata": {},
   "outputs": [
    {
     "data": {
      "text/html": [
       "<div>\n",
       "<style scoped>\n",
       "    .dataframe tbody tr th:only-of-type {\n",
       "        vertical-align: middle;\n",
       "    }\n",
       "\n",
       "    .dataframe tbody tr th {\n",
       "        vertical-align: top;\n",
       "    }\n",
       "\n",
       "    .dataframe thead th {\n",
       "        text-align: right;\n",
       "    }\n",
       "</style>\n",
       "<table border=\"1\" class=\"dataframe\">\n",
       "  <thead>\n",
       "    <tr style=\"text-align: right;\">\n",
       "      <th></th>\n",
       "      <th>rating</th>\n",
       "      <th>review_count</th>\n",
       "      <th>isbn</th>\n",
       "      <th>booktype</th>\n",
       "      <th>author_url</th>\n",
       "      <th>year</th>\n",
       "      <th>genre_urls</th>\n",
       "      <th>dir</th>\n",
       "      <th>rating_count</th>\n",
       "      <th>name</th>\n",
       "    </tr>\n",
       "  </thead>\n",
       "  <tbody>\n",
       "    <tr>\n",
       "      <th>17</th>\n",
       "      <td>4.58</td>\n",
       "      <td>1314.0</td>\n",
       "      <td>0345538374</td>\n",
       "      <td>good_reads:book</td>\n",
       "      <td>https://www.goodreads.com/author/show/656983.J...</td>\n",
       "      <td>1973.0</td>\n",
       "      <td>/genres/fantasy|/genres/classics|/genres/scien...</td>\n",
       "      <td>dir01/30.J_R_R_Tolkien_4_Book_Boxed_Set.html</td>\n",
       "      <td>68495.0</td>\n",
       "      <td>J.R.R. Tolkien 4-Book Boxed Set</td>\n",
       "    </tr>\n",
       "    <tr>\n",
       "      <th>162</th>\n",
       "      <td>4.55</td>\n",
       "      <td>15777.0</td>\n",
       "      <td>075640407X</td>\n",
       "      <td>good_reads:book</td>\n",
       "      <td>https://www.goodreads.com/author/show/108424.P...</td>\n",
       "      <td>2007.0</td>\n",
       "      <td>/genres/fantasy|/genres/fiction</td>\n",
       "      <td>dir02/186074.The_Name_of_the_Wind.html</td>\n",
       "      <td>210018.0</td>\n",
       "      <td>The Name of the Wind (The Kingkiller Chronicle...</td>\n",
       "    </tr>\n",
       "    <tr>\n",
       "      <th>222</th>\n",
       "      <td>4.53</td>\n",
       "      <td>15256.0</td>\n",
       "      <td>055357342X</td>\n",
       "      <td>good_reads:book</td>\n",
       "      <td>https://www.goodreads.com/author/show/346732.G...</td>\n",
       "      <td>2000.0</td>\n",
       "      <td>/genres/fantasy|/genres/fiction|/genres/fantas...</td>\n",
       "      <td>dir03/62291.A_Storm_of_Swords.html</td>\n",
       "      <td>327992.0</td>\n",
       "      <td>A Storm of Swords (A Song of Ice and Fire, #3)</td>\n",
       "    </tr>\n",
       "    <tr>\n",
       "      <th>242</th>\n",
       "      <td>4.53</td>\n",
       "      <td>5404.0</td>\n",
       "      <td>0545265355</td>\n",
       "      <td>good_reads:book</td>\n",
       "      <td>https://www.goodreads.com/author/show/153394.S...</td>\n",
       "      <td>2010.0</td>\n",
       "      <td>/genres/young-adult|/genres/fiction|/genres/fa...</td>\n",
       "      <td>dir03/7938275-the-hunger-games-trilogy-boxset....</td>\n",
       "      <td>102330.0</td>\n",
       "      <td>The Hunger Games Trilogy Boxset (The Hunger Ga...</td>\n",
       "    </tr>\n",
       "    <tr>\n",
       "      <th>249</th>\n",
       "      <td>4.80</td>\n",
       "      <td>644.0</td>\n",
       "      <td>0740748475</td>\n",
       "      <td>good_reads:book</td>\n",
       "      <td>https://www.goodreads.com/author/show/13778.Bi...</td>\n",
       "      <td>2005.0</td>\n",
       "      <td>/genres/sequential-art|/genres/comics|/genres/...</td>\n",
       "      <td>dir03/24812.The_Complete_Calvin_and_Hobbes.html</td>\n",
       "      <td>22674.0</td>\n",
       "      <td>The Complete Calvin and Hobbes</td>\n",
       "    </tr>\n",
       "    <tr>\n",
       "      <th>...</th>\n",
       "      <td>...</td>\n",
       "      <td>...</td>\n",
       "      <td>...</td>\n",
       "      <td>...</td>\n",
       "      <td>...</td>\n",
       "      <td>...</td>\n",
       "      <td>...</td>\n",
       "      <td>...</td>\n",
       "      <td>...</td>\n",
       "      <td>...</td>\n",
       "    </tr>\n",
       "    <tr>\n",
       "      <th>5806</th>\n",
       "      <td>4.57</td>\n",
       "      <td>121.0</td>\n",
       "      <td>0679777458</td>\n",
       "      <td>good_reads:book</td>\n",
       "      <td>https://www.goodreads.com/author/show/8361.Dor...</td>\n",
       "      <td>1966.0</td>\n",
       "      <td>/genres/historical-fiction|/genres/fiction|/ge...</td>\n",
       "      <td>dir59/351211.The_Disorderly_Knights.html</td>\n",
       "      <td>2177.0</td>\n",
       "      <td>The Disorderly Knights (The Lymond Chronicles,...</td>\n",
       "    </tr>\n",
       "    <tr>\n",
       "      <th>5873</th>\n",
       "      <td>4.55</td>\n",
       "      <td>103.0</td>\n",
       "      <td>144247372X</td>\n",
       "      <td>good_reads:book</td>\n",
       "      <td>https://www.goodreads.com/author/show/2876763....</td>\n",
       "      <td>2012.0</td>\n",
       "      <td>/genres/fantasy|/genres/paranormal|/genres/ang...</td>\n",
       "      <td>dir59/14367071-the-complete-hush-hush-saga.html</td>\n",
       "      <td>2869.0</td>\n",
       "      <td>The Complete Hush, Hush Saga</td>\n",
       "    </tr>\n",
       "    <tr>\n",
       "      <th>5874</th>\n",
       "      <td>4.78</td>\n",
       "      <td>18.0</td>\n",
       "      <td>2851944371</td>\n",
       "      <td>good_reads:book</td>\n",
       "      <td>https://www.goodreads.com/author/show/318835.O...</td>\n",
       "      <td>1972.0</td>\n",
       "      <td>/genres/poetry|/genres/fiction|/genres/nobel-p...</td>\n",
       "      <td>dir59/2014000.Le_Monogramme.html</td>\n",
       "      <td>565.0</td>\n",
       "      <td>Le Monogramme</td>\n",
       "    </tr>\n",
       "    <tr>\n",
       "      <th>5880</th>\n",
       "      <td>4.61</td>\n",
       "      <td>123.0</td>\n",
       "      <td>NaN</td>\n",
       "      <td>good_reads:book</td>\n",
       "      <td>https://www.goodreads.com/author/show/4942228....</td>\n",
       "      <td>2010.0</td>\n",
       "      <td>/genres/romance|/genres/m-m-romance|/genres/sc...</td>\n",
       "      <td>dir59/10506860-the-interludes.html</td>\n",
       "      <td>1031.0</td>\n",
       "      <td>The Interludes (In the company of shadows, #3)</td>\n",
       "    </tr>\n",
       "    <tr>\n",
       "      <th>5957</th>\n",
       "      <td>4.72</td>\n",
       "      <td>104.0</td>\n",
       "      <td>178048044X</td>\n",
       "      <td>good_reads:book</td>\n",
       "      <td>https://www.goodreads.com/author/show/20248.J_...</td>\n",
       "      <td>2010.0</td>\n",
       "      <td>/genres/romance|/genres/paranormal|/genres/vam...</td>\n",
       "      <td>dir60/10780042-j-r-ward-collection.html</td>\n",
       "      <td>1788.0</td>\n",
       "      <td>J. R. Ward Collection</td>\n",
       "    </tr>\n",
       "  </tbody>\n",
       "</table>\n",
       "<p>224 rows × 10 columns</p>\n",
       "</div>"
      ],
      "text/plain": [
       "      rating  review_count        isbn         booktype                                         author_url    year                                         genre_urls                                                dir  rating_count                                               name\n",
       "17      4.58        1314.0  0345538374  good_reads:book  https://www.goodreads.com/author/show/656983.J...  1973.0  /genres/fantasy|/genres/classics|/genres/scien...       dir01/30.J_R_R_Tolkien_4_Book_Boxed_Set.html       68495.0                    J.R.R. Tolkien 4-Book Boxed Set\n",
       "162     4.55       15777.0  075640407X  good_reads:book  https://www.goodreads.com/author/show/108424.P...  2007.0                    /genres/fantasy|/genres/fiction             dir02/186074.The_Name_of_the_Wind.html      210018.0  The Name of the Wind (The Kingkiller Chronicle...\n",
       "222     4.53       15256.0  055357342X  good_reads:book  https://www.goodreads.com/author/show/346732.G...  2000.0  /genres/fantasy|/genres/fiction|/genres/fantas...                 dir03/62291.A_Storm_of_Swords.html      327992.0     A Storm of Swords (A Song of Ice and Fire, #3)\n",
       "242     4.53        5404.0  0545265355  good_reads:book  https://www.goodreads.com/author/show/153394.S...  2010.0  /genres/young-adult|/genres/fiction|/genres/fa...  dir03/7938275-the-hunger-games-trilogy-boxset....      102330.0  The Hunger Games Trilogy Boxset (The Hunger Ga...\n",
       "249     4.80         644.0  0740748475  good_reads:book  https://www.goodreads.com/author/show/13778.Bi...  2005.0  /genres/sequential-art|/genres/comics|/genres/...    dir03/24812.The_Complete_Calvin_and_Hobbes.html       22674.0                     The Complete Calvin and Hobbes\n",
       "...      ...           ...         ...              ...                                                ...     ...                                                ...                                                ...           ...                                                ...\n",
       "5806    4.57         121.0  0679777458  good_reads:book  https://www.goodreads.com/author/show/8361.Dor...  1966.0  /genres/historical-fiction|/genres/fiction|/ge...           dir59/351211.The_Disorderly_Knights.html        2177.0  The Disorderly Knights (The Lymond Chronicles,...\n",
       "5873    4.55         103.0  144247372X  good_reads:book  https://www.goodreads.com/author/show/2876763....  2012.0  /genres/fantasy|/genres/paranormal|/genres/ang...    dir59/14367071-the-complete-hush-hush-saga.html        2869.0                       The Complete Hush, Hush Saga\n",
       "5874    4.78          18.0  2851944371  good_reads:book  https://www.goodreads.com/author/show/318835.O...  1972.0  /genres/poetry|/genres/fiction|/genres/nobel-p...                   dir59/2014000.Le_Monogramme.html         565.0                                      Le Monogramme\n",
       "5880    4.61         123.0         NaN  good_reads:book  https://www.goodreads.com/author/show/4942228....  2010.0  /genres/romance|/genres/m-m-romance|/genres/sc...                 dir59/10506860-the-interludes.html        1031.0     The Interludes (In the company of shadows, #3)\n",
       "5957    4.72         104.0  178048044X  good_reads:book  https://www.goodreads.com/author/show/20248.J_...  2010.0  /genres/romance|/genres/paranormal|/genres/vam...            dir60/10780042-j-r-ward-collection.html        1788.0                              J. R. Ward Collection\n",
       "\n",
       "[224 rows x 10 columns]"
      ]
     },
     "execution_count": 14,
     "metadata": {},
     "output_type": "execute_result"
    }
   ],
   "source": [
    "df.query('rating > 4.5')"
   ]
  },
  {
   "cell_type": "code",
   "execution_count": 15,
   "metadata": {},
   "outputs": [
    {
     "data": {
      "text/html": [
       "<div>\n",
       "<style scoped>\n",
       "    .dataframe tbody tr th:only-of-type {\n",
       "        vertical-align: middle;\n",
       "    }\n",
       "\n",
       "    .dataframe tbody tr th {\n",
       "        vertical-align: top;\n",
       "    }\n",
       "\n",
       "    .dataframe thead th {\n",
       "        text-align: right;\n",
       "    }\n",
       "</style>\n",
       "<table border=\"1\" class=\"dataframe\">\n",
       "  <thead>\n",
       "    <tr style=\"text-align: right;\">\n",
       "      <th></th>\n",
       "      <th>rating</th>\n",
       "      <th>review_count</th>\n",
       "      <th>isbn</th>\n",
       "      <th>booktype</th>\n",
       "      <th>author_url</th>\n",
       "      <th>year</th>\n",
       "      <th>genre_urls</th>\n",
       "      <th>dir</th>\n",
       "      <th>rating_count</th>\n",
       "      <th>name</th>\n",
       "    </tr>\n",
       "  </thead>\n",
       "  <tbody>\n",
       "    <tr>\n",
       "      <th>47</th>\n",
       "      <td>3.68</td>\n",
       "      <td>5785.0</td>\n",
       "      <td>0143039954</td>\n",
       "      <td>good_reads:book</td>\n",
       "      <td>https://www.goodreads.com/author/show/903.Homer</td>\n",
       "      <td>-800.0</td>\n",
       "      <td>/genres/classics|/genres/fiction|/genres/poetr...</td>\n",
       "      <td>dir01/1381.The_Odyssey.html</td>\n",
       "      <td>560248.0</td>\n",
       "      <td>The Odyssey</td>\n",
       "    </tr>\n",
       "    <tr>\n",
       "      <th>246</th>\n",
       "      <td>4.01</td>\n",
       "      <td>365.0</td>\n",
       "      <td>0147712556</td>\n",
       "      <td>good_reads:book</td>\n",
       "      <td>https://www.goodreads.com/author/show/903.Homer</td>\n",
       "      <td>-800.0</td>\n",
       "      <td>/genres/classics|/genres/fantasy|/genres/mytho...</td>\n",
       "      <td>dir03/1375.The_Iliad_The_Odyssey.html</td>\n",
       "      <td>35123.0</td>\n",
       "      <td>The Iliad/The Odyssey</td>\n",
       "    </tr>\n",
       "    <tr>\n",
       "      <th>455</th>\n",
       "      <td>3.85</td>\n",
       "      <td>1499.0</td>\n",
       "      <td>0140449140</td>\n",
       "      <td>good_reads:book</td>\n",
       "      <td>https://www.goodreads.com/author/show/879.Plato</td>\n",
       "      <td>-380.0</td>\n",
       "      <td>/genres/philosophy|/genres/classics|/genres/no...</td>\n",
       "      <td>dir05/30289.The_Republic.html</td>\n",
       "      <td>82022.0</td>\n",
       "      <td>The Republic</td>\n",
       "    </tr>\n",
       "    <tr>\n",
       "      <th>596</th>\n",
       "      <td>3.77</td>\n",
       "      <td>1240.0</td>\n",
       "      <td>0679729526</td>\n",
       "      <td>good_reads:book</td>\n",
       "      <td>https://www.goodreads.com/author/show/919.Virgil</td>\n",
       "      <td>-29.0</td>\n",
       "      <td>/genres/classics|/genres/poetry|/genres/fictio...</td>\n",
       "      <td>dir06/12914.The_Aeneid.html</td>\n",
       "      <td>60308.0</td>\n",
       "      <td>The Aeneid</td>\n",
       "    </tr>\n",
       "    <tr>\n",
       "      <th>629</th>\n",
       "      <td>3.64</td>\n",
       "      <td>1231.0</td>\n",
       "      <td>1580495931</td>\n",
       "      <td>good_reads:book</td>\n",
       "      <td>https://www.goodreads.com/author/show/1002.Sop...</td>\n",
       "      <td>-429.0</td>\n",
       "      <td>/genres/classics|/genres/plays|/genres/drama|/...</td>\n",
       "      <td>dir07/1554.Oedipus_Rex.html</td>\n",
       "      <td>93192.0</td>\n",
       "      <td>Oedipus Rex</td>\n",
       "    </tr>\n",
       "    <tr>\n",
       "      <th>674</th>\n",
       "      <td>3.92</td>\n",
       "      <td>3559.0</td>\n",
       "      <td>1590302257</td>\n",
       "      <td>good_reads:book</td>\n",
       "      <td>https://www.goodreads.com/author/show/1771.Sun...</td>\n",
       "      <td>-512.0</td>\n",
       "      <td>/genres/non-fiction|/genres/politics|/genres/c...</td>\n",
       "      <td>dir07/10534.The_Art_of_War.html</td>\n",
       "      <td>114619.0</td>\n",
       "      <td>The Art of War</td>\n",
       "    </tr>\n",
       "    <tr>\n",
       "      <th>746</th>\n",
       "      <td>4.06</td>\n",
       "      <td>1087.0</td>\n",
       "      <td>0140449183</td>\n",
       "      <td>good_reads:book</td>\n",
       "      <td>https://www.goodreads.com/author/show/5158478....</td>\n",
       "      <td>-500.0</td>\n",
       "      <td>/genres/classics|/genres/spirituality|/genres/...</td>\n",
       "      <td>dir08/99944.The_Bhagavad_Gita.html</td>\n",
       "      <td>31634.0</td>\n",
       "      <td>The Bhagavad Gita</td>\n",
       "    </tr>\n",
       "    <tr>\n",
       "      <th>777</th>\n",
       "      <td>3.52</td>\n",
       "      <td>1038.0</td>\n",
       "      <td>1580493882</td>\n",
       "      <td>good_reads:book</td>\n",
       "      <td>https://www.goodreads.com/author/show/1002.Sop...</td>\n",
       "      <td>-442.0</td>\n",
       "      <td>/genres/drama|/genres/fiction|/genres/classics...</td>\n",
       "      <td>dir08/7728.Antigone.html</td>\n",
       "      <td>49084.0</td>\n",
       "      <td>Antigone</td>\n",
       "    </tr>\n",
       "    <tr>\n",
       "      <th>1233</th>\n",
       "      <td>3.94</td>\n",
       "      <td>704.0</td>\n",
       "      <td>015602764X</td>\n",
       "      <td>good_reads:book</td>\n",
       "      <td>https://www.goodreads.com/author/show/1002.Sop...</td>\n",
       "      <td>-400.0</td>\n",
       "      <td>/genres/classics|/genres/plays|/genres/drama|/...</td>\n",
       "      <td>dir13/1540.The_Oedipus_Cycle.html</td>\n",
       "      <td>36008.0</td>\n",
       "      <td>The Oedipus Cycle</td>\n",
       "    </tr>\n",
       "    <tr>\n",
       "      <th>1397</th>\n",
       "      <td>4.03</td>\n",
       "      <td>890.0</td>\n",
       "      <td>0192840509</td>\n",
       "      <td>good_reads:book</td>\n",
       "      <td>https://www.goodreads.com/author/show/12452.Aesop</td>\n",
       "      <td>-560.0</td>\n",
       "      <td>/genres/classics|/genres/childrens|/genres/lit...</td>\n",
       "      <td>dir14/21348.Aesop_s_Fables.html</td>\n",
       "      <td>71259.0</td>\n",
       "      <td>Aesop's Fables</td>\n",
       "    </tr>\n",
       "    <tr>\n",
       "      <th>1398</th>\n",
       "      <td>3.60</td>\n",
       "      <td>1644.0</td>\n",
       "      <td>0141026286</td>\n",
       "      <td>good_reads:book</td>\n",
       "      <td>https://www.goodreads.com/author/show/5158478....</td>\n",
       "      <td>-1500.0</td>\n",
       "      <td>/genres/religion|/genres/literature|/genres/an...</td>\n",
       "      <td>dir14/19351.The_Epic_of_Gilgamesh.html</td>\n",
       "      <td>42026.0</td>\n",
       "      <td>The Epic of Gilgamesh</td>\n",
       "    </tr>\n",
       "    <tr>\n",
       "      <th>1428</th>\n",
       "      <td>3.80</td>\n",
       "      <td>539.0</td>\n",
       "      <td>0486275485</td>\n",
       "      <td>good_reads:book</td>\n",
       "      <td>https://www.goodreads.com/author/show/973.Euri...</td>\n",
       "      <td>-431.0</td>\n",
       "      <td>/genres/classics|/genres/plays|/genres/drama|/...</td>\n",
       "      <td>dir15/752900.Medea.html</td>\n",
       "      <td>29858.0</td>\n",
       "      <td>Medea</td>\n",
       "    </tr>\n",
       "    <tr>\n",
       "      <th>1815</th>\n",
       "      <td>3.96</td>\n",
       "      <td>493.0</td>\n",
       "      <td>0140443339</td>\n",
       "      <td>good_reads:book</td>\n",
       "      <td>https://www.goodreads.com/author/show/990.Aesc...</td>\n",
       "      <td>-458.0</td>\n",
       "      <td>/genres/classics|/genres/plays|/genres/drama|/...</td>\n",
       "      <td>dir19/1519.The_Oresteia.html</td>\n",
       "      <td>18729.0</td>\n",
       "      <td>The Oresteia</td>\n",
       "    </tr>\n",
       "    <tr>\n",
       "      <th>1882</th>\n",
       "      <td>4.02</td>\n",
       "      <td>377.0</td>\n",
       "      <td>0872205541</td>\n",
       "      <td>good_reads:book</td>\n",
       "      <td>https://www.goodreads.com/author/show/879.Plato</td>\n",
       "      <td>-400.0</td>\n",
       "      <td>/genres/philosophy|/genres/classics|/genres/no...</td>\n",
       "      <td>dir19/22632.The_Trial_and_Death_of_Socrates.html</td>\n",
       "      <td>18712.0</td>\n",
       "      <td>The Trial and Death of Socrates</td>\n",
       "    </tr>\n",
       "    <tr>\n",
       "      <th>2078</th>\n",
       "      <td>3.84</td>\n",
       "      <td>399.0</td>\n",
       "      <td>0140440399</td>\n",
       "      <td>good_reads:book</td>\n",
       "      <td>https://www.goodreads.com/author/show/957.Thuc...</td>\n",
       "      <td>-411.0</td>\n",
       "      <td>/genres/history|/genres/classics|/genres/non-f...</td>\n",
       "      <td>dir21/261243.The_History_of_the_Peloponnesian_...</td>\n",
       "      <td>17212.0</td>\n",
       "      <td>The History of the Peloponnesian War</td>\n",
       "    </tr>\n",
       "    <tr>\n",
       "      <th>2527</th>\n",
       "      <td>3.94</td>\n",
       "      <td>506.0</td>\n",
       "      <td>0140449086</td>\n",
       "      <td>good_reads:book</td>\n",
       "      <td>https://www.goodreads.com/author/show/901.Hero...</td>\n",
       "      <td>-440.0</td>\n",
       "      <td>/genres/history|/genres/classics|/genres/non-f...</td>\n",
       "      <td>dir26/1362.The_Histories.html</td>\n",
       "      <td>20570.0</td>\n",
       "      <td>The Histories</td>\n",
       "    </tr>\n",
       "    <tr>\n",
       "      <th>3133</th>\n",
       "      <td>4.30</td>\n",
       "      <td>131.0</td>\n",
       "      <td>0872203492</td>\n",
       "      <td>good_reads:book</td>\n",
       "      <td>https://www.goodreads.com/author/show/879.Plato</td>\n",
       "      <td>-400.0</td>\n",
       "      <td>/genres/philosophy|/genres/classics|/genres/no...</td>\n",
       "      <td>dir32/9462.Complete_Works.html</td>\n",
       "      <td>7454.0</td>\n",
       "      <td>Complete Works</td>\n",
       "    </tr>\n",
       "    <tr>\n",
       "      <th>3274</th>\n",
       "      <td>3.88</td>\n",
       "      <td>411.0</td>\n",
       "      <td>0140449493</td>\n",
       "      <td>good_reads:book</td>\n",
       "      <td>https://www.goodreads.com/author/show/2192.Ari...</td>\n",
       "      <td>-350.0</td>\n",
       "      <td>/genres/philosophy|/genres/classics|/genres/no...</td>\n",
       "      <td>dir33/19068.The_Nicomachean_Ethics.html</td>\n",
       "      <td>16534.0</td>\n",
       "      <td>The Nicomachean Ethics</td>\n",
       "    </tr>\n",
       "    <tr>\n",
       "      <th>3757</th>\n",
       "      <td>3.82</td>\n",
       "      <td>364.0</td>\n",
       "      <td>0872206033</td>\n",
       "      <td>good_reads:book</td>\n",
       "      <td>https://www.goodreads.com/author/show/1011.Ari...</td>\n",
       "      <td>-411.0</td>\n",
       "      <td>/genres/plays|/genres/classics|/genres/drama|/...</td>\n",
       "      <td>dir38/1591.Lysistrata.html</td>\n",
       "      <td>18070.0</td>\n",
       "      <td>Lysistrata</td>\n",
       "    </tr>\n",
       "    <tr>\n",
       "      <th>4402</th>\n",
       "      <td>3.99</td>\n",
       "      <td>516.0</td>\n",
       "      <td>0140449272</td>\n",
       "      <td>good_reads:book</td>\n",
       "      <td>https://www.goodreads.com/author/show/879.Plato</td>\n",
       "      <td>-370.0</td>\n",
       "      <td>/genres/non-fiction|/genres/classics|/genres/p...</td>\n",
       "      <td>dir45/81779.The_Symposium.html</td>\n",
       "      <td>18457.0</td>\n",
       "      <td>The Symposium</td>\n",
       "    </tr>\n",
       "    <tr>\n",
       "      <th>4475</th>\n",
       "      <td>4.11</td>\n",
       "      <td>281.0</td>\n",
       "      <td>0865163480</td>\n",
       "      <td>good_reads:book</td>\n",
       "      <td>https://www.goodreads.com/author/show/879.Plato</td>\n",
       "      <td>-390.0</td>\n",
       "      <td>/genres/philosophy|/genres/classics|/genres/no...</td>\n",
       "      <td>dir45/73945.Apology.html</td>\n",
       "      <td>11478.0</td>\n",
       "      <td>Apology</td>\n",
       "    </tr>\n",
       "    <tr>\n",
       "      <th>5367</th>\n",
       "      <td>4.07</td>\n",
       "      <td>133.0</td>\n",
       "      <td>0872206335</td>\n",
       "      <td>good_reads:book</td>\n",
       "      <td>https://www.goodreads.com/author/show/879.Plato</td>\n",
       "      <td>-360.0</td>\n",
       "      <td>/genres/philosophy|/genres/classics|/genres/no...</td>\n",
       "      <td>dir54/30292.Five_Dialogues.html</td>\n",
       "      <td>9964.0</td>\n",
       "      <td>Five Dialogues</td>\n",
       "    </tr>\n",
       "  </tbody>\n",
       "</table>\n",
       "</div>"
      ],
      "text/plain": [
       "      rating  review_count        isbn         booktype                                         author_url    year                                         genre_urls                                                dir  rating_count                                  name\n",
       "47      3.68        5785.0  0143039954  good_reads:book    https://www.goodreads.com/author/show/903.Homer  -800.0  /genres/classics|/genres/fiction|/genres/poetr...                        dir01/1381.The_Odyssey.html      560248.0                           The Odyssey\n",
       "246     4.01         365.0  0147712556  good_reads:book    https://www.goodreads.com/author/show/903.Homer  -800.0  /genres/classics|/genres/fantasy|/genres/mytho...              dir03/1375.The_Iliad_The_Odyssey.html       35123.0                 The Iliad/The Odyssey\n",
       "455     3.85        1499.0  0140449140  good_reads:book    https://www.goodreads.com/author/show/879.Plato  -380.0  /genres/philosophy|/genres/classics|/genres/no...                      dir05/30289.The_Republic.html       82022.0                          The Republic\n",
       "596     3.77        1240.0  0679729526  good_reads:book   https://www.goodreads.com/author/show/919.Virgil   -29.0  /genres/classics|/genres/poetry|/genres/fictio...                        dir06/12914.The_Aeneid.html       60308.0                            The Aeneid\n",
       "629     3.64        1231.0  1580495931  good_reads:book  https://www.goodreads.com/author/show/1002.Sop...  -429.0  /genres/classics|/genres/plays|/genres/drama|/...                        dir07/1554.Oedipus_Rex.html       93192.0                           Oedipus Rex\n",
       "674     3.92        3559.0  1590302257  good_reads:book  https://www.goodreads.com/author/show/1771.Sun...  -512.0  /genres/non-fiction|/genres/politics|/genres/c...                    dir07/10534.The_Art_of_War.html      114619.0                        The Art of War\n",
       "746     4.06        1087.0  0140449183  good_reads:book  https://www.goodreads.com/author/show/5158478....  -500.0  /genres/classics|/genres/spirituality|/genres/...                 dir08/99944.The_Bhagavad_Gita.html       31634.0                     The Bhagavad Gita\n",
       "777     3.52        1038.0  1580493882  good_reads:book  https://www.goodreads.com/author/show/1002.Sop...  -442.0  /genres/drama|/genres/fiction|/genres/classics...                           dir08/7728.Antigone.html       49084.0                              Antigone\n",
       "1233    3.94         704.0  015602764X  good_reads:book  https://www.goodreads.com/author/show/1002.Sop...  -400.0  /genres/classics|/genres/plays|/genres/drama|/...                  dir13/1540.The_Oedipus_Cycle.html       36008.0                     The Oedipus Cycle\n",
       "1397    4.03         890.0  0192840509  good_reads:book  https://www.goodreads.com/author/show/12452.Aesop  -560.0  /genres/classics|/genres/childrens|/genres/lit...                    dir14/21348.Aesop_s_Fables.html       71259.0                        Aesop's Fables\n",
       "1398    3.60        1644.0  0141026286  good_reads:book  https://www.goodreads.com/author/show/5158478.... -1500.0  /genres/religion|/genres/literature|/genres/an...             dir14/19351.The_Epic_of_Gilgamesh.html       42026.0                 The Epic of Gilgamesh\n",
       "1428    3.80         539.0  0486275485  good_reads:book  https://www.goodreads.com/author/show/973.Euri...  -431.0  /genres/classics|/genres/plays|/genres/drama|/...                            dir15/752900.Medea.html       29858.0                                 Medea\n",
       "1815    3.96         493.0  0140443339  good_reads:book  https://www.goodreads.com/author/show/990.Aesc...  -458.0  /genres/classics|/genres/plays|/genres/drama|/...                       dir19/1519.The_Oresteia.html       18729.0                          The Oresteia\n",
       "1882    4.02         377.0  0872205541  good_reads:book    https://www.goodreads.com/author/show/879.Plato  -400.0  /genres/philosophy|/genres/classics|/genres/no...   dir19/22632.The_Trial_and_Death_of_Socrates.html       18712.0       The Trial and Death of Socrates\n",
       "2078    3.84         399.0  0140440399  good_reads:book  https://www.goodreads.com/author/show/957.Thuc...  -411.0  /genres/history|/genres/classics|/genres/non-f...  dir21/261243.The_History_of_the_Peloponnesian_...       17212.0  The History of the Peloponnesian War\n",
       "2527    3.94         506.0  0140449086  good_reads:book  https://www.goodreads.com/author/show/901.Hero...  -440.0  /genres/history|/genres/classics|/genres/non-f...                      dir26/1362.The_Histories.html       20570.0                         The Histories\n",
       "3133    4.30         131.0  0872203492  good_reads:book    https://www.goodreads.com/author/show/879.Plato  -400.0  /genres/philosophy|/genres/classics|/genres/no...                     dir32/9462.Complete_Works.html        7454.0                        Complete Works\n",
       "3274    3.88         411.0  0140449493  good_reads:book  https://www.goodreads.com/author/show/2192.Ari...  -350.0  /genres/philosophy|/genres/classics|/genres/no...            dir33/19068.The_Nicomachean_Ethics.html       16534.0                The Nicomachean Ethics\n",
       "3757    3.82         364.0  0872206033  good_reads:book  https://www.goodreads.com/author/show/1011.Ari...  -411.0  /genres/plays|/genres/classics|/genres/drama|/...                         dir38/1591.Lysistrata.html       18070.0                            Lysistrata\n",
       "4402    3.99         516.0  0140449272  good_reads:book    https://www.goodreads.com/author/show/879.Plato  -370.0  /genres/non-fiction|/genres/classics|/genres/p...                     dir45/81779.The_Symposium.html       18457.0                         The Symposium\n",
       "4475    4.11         281.0  0865163480  good_reads:book    https://www.goodreads.com/author/show/879.Plato  -390.0  /genres/philosophy|/genres/classics|/genres/no...                           dir45/73945.Apology.html       11478.0                               Apology\n",
       "5367    4.07         133.0  0872206335  good_reads:book    https://www.goodreads.com/author/show/879.Plato  -360.0  /genres/philosophy|/genres/classics|/genres/no...                    dir54/30292.Five_Dialogues.html        9964.0                        Five Dialogues"
      ]
     },
     "execution_count": 15,
     "metadata": {},
     "output_type": "execute_result"
    }
   ],
   "source": [
    "df[df.year < 0]"
   ]
  },
  {
   "cell_type": "code",
   "execution_count": 18,
   "metadata": {},
   "outputs": [
    {
     "data": {
      "text/html": [
       "<div>\n",
       "<style scoped>\n",
       "    .dataframe tbody tr th:only-of-type {\n",
       "        vertical-align: middle;\n",
       "    }\n",
       "\n",
       "    .dataframe tbody tr th {\n",
       "        vertical-align: top;\n",
       "    }\n",
       "\n",
       "    .dataframe thead th {\n",
       "        text-align: right;\n",
       "    }\n",
       "</style>\n",
       "<table border=\"1\" class=\"dataframe\">\n",
       "  <thead>\n",
       "    <tr style=\"text-align: right;\">\n",
       "      <th></th>\n",
       "      <th>rating</th>\n",
       "      <th>review_count</th>\n",
       "      <th>isbn</th>\n",
       "      <th>booktype</th>\n",
       "      <th>author_url</th>\n",
       "      <th>year</th>\n",
       "      <th>genre_urls</th>\n",
       "      <th>dir</th>\n",
       "      <th>rating_count</th>\n",
       "      <th>name</th>\n",
       "    </tr>\n",
       "  </thead>\n",
       "  <tbody>\n",
       "    <tr>\n",
       "      <th>3133</th>\n",
       "      <td>4.30</td>\n",
       "      <td>131.0</td>\n",
       "      <td>0872203492</td>\n",
       "      <td>good_reads:book</td>\n",
       "      <td>https://www.goodreads.com/author/show/879.Plato</td>\n",
       "      <td>-400.0</td>\n",
       "      <td>/genres/philosophy|/genres/classics|/genres/no...</td>\n",
       "      <td>dir32/9462.Complete_Works.html</td>\n",
       "      <td>7454.0</td>\n",
       "      <td>Complete Works</td>\n",
       "    </tr>\n",
       "    <tr>\n",
       "      <th>4475</th>\n",
       "      <td>4.11</td>\n",
       "      <td>281.0</td>\n",
       "      <td>0865163480</td>\n",
       "      <td>good_reads:book</td>\n",
       "      <td>https://www.goodreads.com/author/show/879.Plato</td>\n",
       "      <td>-390.0</td>\n",
       "      <td>/genres/philosophy|/genres/classics|/genres/no...</td>\n",
       "      <td>dir45/73945.Apology.html</td>\n",
       "      <td>11478.0</td>\n",
       "      <td>Apology</td>\n",
       "    </tr>\n",
       "  </tbody>\n",
       "</table>\n",
       "</div>"
      ],
      "text/plain": [
       "      rating  review_count        isbn         booktype                                       author_url   year                                         genre_urls                             dir  rating_count            name\n",
       "3133    4.30         131.0  0872203492  good_reads:book  https://www.goodreads.com/author/show/879.Plato -400.0  /genres/philosophy|/genres/classics|/genres/no...  dir32/9462.Complete_Works.html        7454.0  Complete Works\n",
       "4475    4.11         281.0  0865163480  good_reads:book  https://www.goodreads.com/author/show/879.Plato -390.0  /genres/philosophy|/genres/classics|/genres/no...        dir45/73945.Apology.html       11478.0         Apology"
      ]
     },
     "execution_count": 18,
     "metadata": {},
     "output_type": "execute_result"
    }
   ],
   "source": [
    "df[(df.year < 0) & (df.rating > 4.1)]"
   ]
  },
  {
   "cell_type": "markdown",
   "metadata": {},
   "source": [
    "## 5. Cleaning\n",
    "We checked the datatypes. Notice that `review_count`, `rating_count`, are of type `object` (which means they are either strings or Pandas coudn't figure what they are), while `year` is a float.<br>\n",
    "Suppose we try to fix this:"
   ]
  },
  {
   "cell_type": "code",
   "execution_count": 19,
   "metadata": {},
   "outputs": [
    {
     "ename": "IntCastingNaNError",
     "evalue": "Cannot convert non-finite values (NA or inf) to integer",
     "output_type": "error",
     "traceback": [
      "\u001b[0;31m---------------------------------------------------------------------------\u001b[0m",
      "\u001b[0;31mIntCastingNaNError\u001b[0m                        Traceback (most recent call last)",
      "Cell \u001b[0;32mIn[19], line 1\u001b[0m\n\u001b[0;32m----> 1\u001b[0m df[\u001b[38;5;124m'\u001b[39m\u001b[38;5;124mrating_count\u001b[39m\u001b[38;5;124m'\u001b[39m] \u001b[38;5;241m=\u001b[39m \u001b[43mdf\u001b[49m\u001b[38;5;241;43m.\u001b[39;49m\u001b[43mrating_count\u001b[49m\u001b[38;5;241;43m.\u001b[39;49m\u001b[43mastype\u001b[49m\u001b[43m(\u001b[49m\u001b[38;5;28;43mint\u001b[39;49m\u001b[43m)\u001b[49m\n\u001b[1;32m      2\u001b[0m df[\u001b[38;5;124m'\u001b[39m\u001b[38;5;124mreview_count\u001b[39m\u001b[38;5;124m'\u001b[39m] \u001b[38;5;241m=\u001b[39m df\u001b[38;5;241m.\u001b[39mreview_count\u001b[38;5;241m.\u001b[39mastype(\u001b[38;5;28mint\u001b[39m)\n\u001b[1;32m      3\u001b[0m df[\u001b[38;5;124m'\u001b[39m\u001b[38;5;124myear\u001b[39m\u001b[38;5;124m'\u001b[39m] \u001b[38;5;241m=\u001b[39m df\u001b[38;5;241m.\u001b[39myear\u001b[38;5;241m.\u001b[39mastype(\u001b[38;5;28mint\u001b[39m)\n",
      "File \u001b[0;32m~/opt/anaconda3/envs/3py12/lib/python3.12/site-packages/pandas/core/generic.py:6643\u001b[0m, in \u001b[0;36mNDFrame.astype\u001b[0;34m(self, dtype, copy, errors)\u001b[0m\n\u001b[1;32m   6637\u001b[0m     results \u001b[38;5;241m=\u001b[39m [\n\u001b[1;32m   6638\u001b[0m         ser\u001b[38;5;241m.\u001b[39mastype(dtype, copy\u001b[38;5;241m=\u001b[39mcopy, errors\u001b[38;5;241m=\u001b[39merrors) \u001b[38;5;28;01mfor\u001b[39;00m _, ser \u001b[38;5;129;01min\u001b[39;00m \u001b[38;5;28mself\u001b[39m\u001b[38;5;241m.\u001b[39mitems()\n\u001b[1;32m   6639\u001b[0m     ]\n\u001b[1;32m   6641\u001b[0m \u001b[38;5;28;01melse\u001b[39;00m:\n\u001b[1;32m   6642\u001b[0m     \u001b[38;5;66;03m# else, only a single dtype is given\u001b[39;00m\n\u001b[0;32m-> 6643\u001b[0m     new_data \u001b[38;5;241m=\u001b[39m \u001b[38;5;28;43mself\u001b[39;49m\u001b[38;5;241;43m.\u001b[39;49m\u001b[43m_mgr\u001b[49m\u001b[38;5;241;43m.\u001b[39;49m\u001b[43mastype\u001b[49m\u001b[43m(\u001b[49m\u001b[43mdtype\u001b[49m\u001b[38;5;241;43m=\u001b[39;49m\u001b[43mdtype\u001b[49m\u001b[43m,\u001b[49m\u001b[43m \u001b[49m\u001b[43mcopy\u001b[49m\u001b[38;5;241;43m=\u001b[39;49m\u001b[43mcopy\u001b[49m\u001b[43m,\u001b[49m\u001b[43m \u001b[49m\u001b[43merrors\u001b[49m\u001b[38;5;241;43m=\u001b[39;49m\u001b[43merrors\u001b[49m\u001b[43m)\u001b[49m\n\u001b[1;32m   6644\u001b[0m     res \u001b[38;5;241m=\u001b[39m \u001b[38;5;28mself\u001b[39m\u001b[38;5;241m.\u001b[39m_constructor_from_mgr(new_data, axes\u001b[38;5;241m=\u001b[39mnew_data\u001b[38;5;241m.\u001b[39maxes)\n\u001b[1;32m   6645\u001b[0m     \u001b[38;5;28;01mreturn\u001b[39;00m res\u001b[38;5;241m.\u001b[39m__finalize__(\u001b[38;5;28mself\u001b[39m, method\u001b[38;5;241m=\u001b[39m\u001b[38;5;124m\"\u001b[39m\u001b[38;5;124mastype\u001b[39m\u001b[38;5;124m\"\u001b[39m)\n",
      "File \u001b[0;32m~/opt/anaconda3/envs/3py12/lib/python3.12/site-packages/pandas/core/internals/managers.py:430\u001b[0m, in \u001b[0;36mBaseBlockManager.astype\u001b[0;34m(self, dtype, copy, errors)\u001b[0m\n\u001b[1;32m    427\u001b[0m \u001b[38;5;28;01melif\u001b[39;00m using_copy_on_write():\n\u001b[1;32m    428\u001b[0m     copy \u001b[38;5;241m=\u001b[39m \u001b[38;5;28;01mFalse\u001b[39;00m\n\u001b[0;32m--> 430\u001b[0m \u001b[38;5;28;01mreturn\u001b[39;00m \u001b[38;5;28;43mself\u001b[39;49m\u001b[38;5;241;43m.\u001b[39;49m\u001b[43mapply\u001b[49m\u001b[43m(\u001b[49m\n\u001b[1;32m    431\u001b[0m \u001b[43m    \u001b[49m\u001b[38;5;124;43m\"\u001b[39;49m\u001b[38;5;124;43mastype\u001b[39;49m\u001b[38;5;124;43m\"\u001b[39;49m\u001b[43m,\u001b[49m\n\u001b[1;32m    432\u001b[0m \u001b[43m    \u001b[49m\u001b[43mdtype\u001b[49m\u001b[38;5;241;43m=\u001b[39;49m\u001b[43mdtype\u001b[49m\u001b[43m,\u001b[49m\n\u001b[1;32m    433\u001b[0m \u001b[43m    \u001b[49m\u001b[43mcopy\u001b[49m\u001b[38;5;241;43m=\u001b[39;49m\u001b[43mcopy\u001b[49m\u001b[43m,\u001b[49m\n\u001b[1;32m    434\u001b[0m \u001b[43m    \u001b[49m\u001b[43merrors\u001b[49m\u001b[38;5;241;43m=\u001b[39;49m\u001b[43merrors\u001b[49m\u001b[43m,\u001b[49m\n\u001b[1;32m    435\u001b[0m \u001b[43m    \u001b[49m\u001b[43musing_cow\u001b[49m\u001b[38;5;241;43m=\u001b[39;49m\u001b[43musing_copy_on_write\u001b[49m\u001b[43m(\u001b[49m\u001b[43m)\u001b[49m\u001b[43m,\u001b[49m\n\u001b[1;32m    436\u001b[0m \u001b[43m\u001b[49m\u001b[43m)\u001b[49m\n",
      "File \u001b[0;32m~/opt/anaconda3/envs/3py12/lib/python3.12/site-packages/pandas/core/internals/managers.py:363\u001b[0m, in \u001b[0;36mBaseBlockManager.apply\u001b[0;34m(self, f, align_keys, **kwargs)\u001b[0m\n\u001b[1;32m    361\u001b[0m         applied \u001b[38;5;241m=\u001b[39m b\u001b[38;5;241m.\u001b[39mapply(f, \u001b[38;5;241m*\u001b[39m\u001b[38;5;241m*\u001b[39mkwargs)\n\u001b[1;32m    362\u001b[0m     \u001b[38;5;28;01melse\u001b[39;00m:\n\u001b[0;32m--> 363\u001b[0m         applied \u001b[38;5;241m=\u001b[39m \u001b[38;5;28;43mgetattr\u001b[39;49m\u001b[43m(\u001b[49m\u001b[43mb\u001b[49m\u001b[43m,\u001b[49m\u001b[43m \u001b[49m\u001b[43mf\u001b[49m\u001b[43m)\u001b[49m\u001b[43m(\u001b[49m\u001b[38;5;241;43m*\u001b[39;49m\u001b[38;5;241;43m*\u001b[39;49m\u001b[43mkwargs\u001b[49m\u001b[43m)\u001b[49m\n\u001b[1;32m    364\u001b[0m     result_blocks \u001b[38;5;241m=\u001b[39m extend_blocks(applied, result_blocks)\n\u001b[1;32m    366\u001b[0m out \u001b[38;5;241m=\u001b[39m \u001b[38;5;28mtype\u001b[39m(\u001b[38;5;28mself\u001b[39m)\u001b[38;5;241m.\u001b[39mfrom_blocks(result_blocks, \u001b[38;5;28mself\u001b[39m\u001b[38;5;241m.\u001b[39maxes)\n",
      "File \u001b[0;32m~/opt/anaconda3/envs/3py12/lib/python3.12/site-packages/pandas/core/internals/blocks.py:758\u001b[0m, in \u001b[0;36mBlock.astype\u001b[0;34m(self, dtype, copy, errors, using_cow, squeeze)\u001b[0m\n\u001b[1;32m    755\u001b[0m         \u001b[38;5;28;01mraise\u001b[39;00m \u001b[38;5;167;01mValueError\u001b[39;00m(\u001b[38;5;124m\"\u001b[39m\u001b[38;5;124mCan not squeeze with more than one column.\u001b[39m\u001b[38;5;124m\"\u001b[39m)\n\u001b[1;32m    756\u001b[0m     values \u001b[38;5;241m=\u001b[39m values[\u001b[38;5;241m0\u001b[39m, :]  \u001b[38;5;66;03m# type: ignore[call-overload]\u001b[39;00m\n\u001b[0;32m--> 758\u001b[0m new_values \u001b[38;5;241m=\u001b[39m \u001b[43mastype_array_safe\u001b[49m\u001b[43m(\u001b[49m\u001b[43mvalues\u001b[49m\u001b[43m,\u001b[49m\u001b[43m \u001b[49m\u001b[43mdtype\u001b[49m\u001b[43m,\u001b[49m\u001b[43m \u001b[49m\u001b[43mcopy\u001b[49m\u001b[38;5;241;43m=\u001b[39;49m\u001b[43mcopy\u001b[49m\u001b[43m,\u001b[49m\u001b[43m \u001b[49m\u001b[43merrors\u001b[49m\u001b[38;5;241;43m=\u001b[39;49m\u001b[43merrors\u001b[49m\u001b[43m)\u001b[49m\n\u001b[1;32m    760\u001b[0m new_values \u001b[38;5;241m=\u001b[39m maybe_coerce_values(new_values)\n\u001b[1;32m    762\u001b[0m refs \u001b[38;5;241m=\u001b[39m \u001b[38;5;28;01mNone\u001b[39;00m\n",
      "File \u001b[0;32m~/opt/anaconda3/envs/3py12/lib/python3.12/site-packages/pandas/core/dtypes/astype.py:237\u001b[0m, in \u001b[0;36mastype_array_safe\u001b[0;34m(values, dtype, copy, errors)\u001b[0m\n\u001b[1;32m    234\u001b[0m     dtype \u001b[38;5;241m=\u001b[39m dtype\u001b[38;5;241m.\u001b[39mnumpy_dtype\n\u001b[1;32m    236\u001b[0m \u001b[38;5;28;01mtry\u001b[39;00m:\n\u001b[0;32m--> 237\u001b[0m     new_values \u001b[38;5;241m=\u001b[39m \u001b[43mastype_array\u001b[49m\u001b[43m(\u001b[49m\u001b[43mvalues\u001b[49m\u001b[43m,\u001b[49m\u001b[43m \u001b[49m\u001b[43mdtype\u001b[49m\u001b[43m,\u001b[49m\u001b[43m \u001b[49m\u001b[43mcopy\u001b[49m\u001b[38;5;241;43m=\u001b[39;49m\u001b[43mcopy\u001b[49m\u001b[43m)\u001b[49m\n\u001b[1;32m    238\u001b[0m \u001b[38;5;28;01mexcept\u001b[39;00m (\u001b[38;5;167;01mValueError\u001b[39;00m, \u001b[38;5;167;01mTypeError\u001b[39;00m):\n\u001b[1;32m    239\u001b[0m     \u001b[38;5;66;03m# e.g. _astype_nansafe can fail on object-dtype of strings\u001b[39;00m\n\u001b[1;32m    240\u001b[0m     \u001b[38;5;66;03m#  trying to convert to float\u001b[39;00m\n\u001b[1;32m    241\u001b[0m     \u001b[38;5;28;01mif\u001b[39;00m errors \u001b[38;5;241m==\u001b[39m \u001b[38;5;124m\"\u001b[39m\u001b[38;5;124mignore\u001b[39m\u001b[38;5;124m\"\u001b[39m:\n",
      "File \u001b[0;32m~/opt/anaconda3/envs/3py12/lib/python3.12/site-packages/pandas/core/dtypes/astype.py:182\u001b[0m, in \u001b[0;36mastype_array\u001b[0;34m(values, dtype, copy)\u001b[0m\n\u001b[1;32m    179\u001b[0m     values \u001b[38;5;241m=\u001b[39m values\u001b[38;5;241m.\u001b[39mastype(dtype, copy\u001b[38;5;241m=\u001b[39mcopy)\n\u001b[1;32m    181\u001b[0m \u001b[38;5;28;01melse\u001b[39;00m:\n\u001b[0;32m--> 182\u001b[0m     values \u001b[38;5;241m=\u001b[39m \u001b[43m_astype_nansafe\u001b[49m\u001b[43m(\u001b[49m\u001b[43mvalues\u001b[49m\u001b[43m,\u001b[49m\u001b[43m \u001b[49m\u001b[43mdtype\u001b[49m\u001b[43m,\u001b[49m\u001b[43m \u001b[49m\u001b[43mcopy\u001b[49m\u001b[38;5;241;43m=\u001b[39;49m\u001b[43mcopy\u001b[49m\u001b[43m)\u001b[49m\n\u001b[1;32m    184\u001b[0m \u001b[38;5;66;03m# in pandas we don't store numpy str dtypes, so convert to object\u001b[39;00m\n\u001b[1;32m    185\u001b[0m \u001b[38;5;28;01mif\u001b[39;00m \u001b[38;5;28misinstance\u001b[39m(dtype, np\u001b[38;5;241m.\u001b[39mdtype) \u001b[38;5;129;01mand\u001b[39;00m \u001b[38;5;28missubclass\u001b[39m(values\u001b[38;5;241m.\u001b[39mdtype\u001b[38;5;241m.\u001b[39mtype, \u001b[38;5;28mstr\u001b[39m):\n",
      "File \u001b[0;32m~/opt/anaconda3/envs/3py12/lib/python3.12/site-packages/pandas/core/dtypes/astype.py:101\u001b[0m, in \u001b[0;36m_astype_nansafe\u001b[0;34m(arr, dtype, copy, skipna)\u001b[0m\n\u001b[1;32m     96\u001b[0m     \u001b[38;5;28;01mreturn\u001b[39;00m lib\u001b[38;5;241m.\u001b[39mensure_string_array(\n\u001b[1;32m     97\u001b[0m         arr, skipna\u001b[38;5;241m=\u001b[39mskipna, convert_na_value\u001b[38;5;241m=\u001b[39m\u001b[38;5;28;01mFalse\u001b[39;00m\n\u001b[1;32m     98\u001b[0m     )\u001b[38;5;241m.\u001b[39mreshape(shape)\n\u001b[1;32m    100\u001b[0m \u001b[38;5;28;01melif\u001b[39;00m np\u001b[38;5;241m.\u001b[39missubdtype(arr\u001b[38;5;241m.\u001b[39mdtype, np\u001b[38;5;241m.\u001b[39mfloating) \u001b[38;5;129;01mand\u001b[39;00m dtype\u001b[38;5;241m.\u001b[39mkind \u001b[38;5;129;01min\u001b[39;00m \u001b[38;5;124m\"\u001b[39m\u001b[38;5;124miu\u001b[39m\u001b[38;5;124m\"\u001b[39m:\n\u001b[0;32m--> 101\u001b[0m     \u001b[38;5;28;01mreturn\u001b[39;00m \u001b[43m_astype_float_to_int_nansafe\u001b[49m\u001b[43m(\u001b[49m\u001b[43marr\u001b[49m\u001b[43m,\u001b[49m\u001b[43m \u001b[49m\u001b[43mdtype\u001b[49m\u001b[43m,\u001b[49m\u001b[43m \u001b[49m\u001b[43mcopy\u001b[49m\u001b[43m)\u001b[49m\n\u001b[1;32m    103\u001b[0m \u001b[38;5;28;01melif\u001b[39;00m arr\u001b[38;5;241m.\u001b[39mdtype \u001b[38;5;241m==\u001b[39m \u001b[38;5;28mobject\u001b[39m:\n\u001b[1;32m    104\u001b[0m     \u001b[38;5;66;03m# if we have a datetime/timedelta array of objects\u001b[39;00m\n\u001b[1;32m    105\u001b[0m     \u001b[38;5;66;03m# then coerce to datetime64[ns] and use DatetimeArray.astype\u001b[39;00m\n\u001b[1;32m    107\u001b[0m     \u001b[38;5;28;01mif\u001b[39;00m lib\u001b[38;5;241m.\u001b[39mis_np_dtype(dtype, \u001b[38;5;124m\"\u001b[39m\u001b[38;5;124mM\u001b[39m\u001b[38;5;124m\"\u001b[39m):\n",
      "File \u001b[0;32m~/opt/anaconda3/envs/3py12/lib/python3.12/site-packages/pandas/core/dtypes/astype.py:145\u001b[0m, in \u001b[0;36m_astype_float_to_int_nansafe\u001b[0;34m(values, dtype, copy)\u001b[0m\n\u001b[1;32m    141\u001b[0m \u001b[38;5;250m\u001b[39m\u001b[38;5;124;03m\"\"\"\u001b[39;00m\n\u001b[1;32m    142\u001b[0m \u001b[38;5;124;03mastype with a check preventing converting NaN to an meaningless integer value.\u001b[39;00m\n\u001b[1;32m    143\u001b[0m \u001b[38;5;124;03m\"\"\"\u001b[39;00m\n\u001b[1;32m    144\u001b[0m \u001b[38;5;28;01mif\u001b[39;00m \u001b[38;5;129;01mnot\u001b[39;00m np\u001b[38;5;241m.\u001b[39misfinite(values)\u001b[38;5;241m.\u001b[39mall():\n\u001b[0;32m--> 145\u001b[0m     \u001b[38;5;28;01mraise\u001b[39;00m IntCastingNaNError(\n\u001b[1;32m    146\u001b[0m         \u001b[38;5;124m\"\u001b[39m\u001b[38;5;124mCannot convert non-finite values (NA or inf) to integer\u001b[39m\u001b[38;5;124m\"\u001b[39m\n\u001b[1;32m    147\u001b[0m     )\n\u001b[1;32m    148\u001b[0m \u001b[38;5;28;01mif\u001b[39;00m dtype\u001b[38;5;241m.\u001b[39mkind \u001b[38;5;241m==\u001b[39m \u001b[38;5;124m\"\u001b[39m\u001b[38;5;124mu\u001b[39m\u001b[38;5;124m\"\u001b[39m:\n\u001b[1;32m    149\u001b[0m     \u001b[38;5;66;03m# GH#45151\u001b[39;00m\n\u001b[1;32m    150\u001b[0m     \u001b[38;5;28;01mif\u001b[39;00m \u001b[38;5;129;01mnot\u001b[39;00m (values \u001b[38;5;241m>\u001b[39m\u001b[38;5;241m=\u001b[39m \u001b[38;5;241m0\u001b[39m)\u001b[38;5;241m.\u001b[39mall():\n",
      "\u001b[0;31mIntCastingNaNError\u001b[0m: Cannot convert non-finite values (NA or inf) to integer"
     ]
    }
   ],
   "source": [
    "df['rating_count'] = df.rating_count.astype(int)\n",
    "df['review_count'] = df.review_count.astype(int)\n",
    "df['year'] = df.year.astype(int)"
   ]
  },
  {
   "cell_type": "markdown",
   "metadata": {},
   "source": [
    "Something is not right. It's trying to convert some Python datatype: `None` into an `int`. This usually means some data was missing. Was it?"
   ]
  },
  {
   "cell_type": "code",
   "execution_count": 20,
   "metadata": {},
   "outputs": [
    {
     "data": {
      "text/html": [
       "<div>\n",
       "<style scoped>\n",
       "    .dataframe tbody tr th:only-of-type {\n",
       "        vertical-align: middle;\n",
       "    }\n",
       "\n",
       "    .dataframe tbody tr th {\n",
       "        vertical-align: top;\n",
       "    }\n",
       "\n",
       "    .dataframe thead th {\n",
       "        text-align: right;\n",
       "    }\n",
       "</style>\n",
       "<table border=\"1\" class=\"dataframe\">\n",
       "  <thead>\n",
       "    <tr style=\"text-align: right;\">\n",
       "      <th></th>\n",
       "      <th>rating</th>\n",
       "      <th>review_count</th>\n",
       "      <th>isbn</th>\n",
       "      <th>booktype</th>\n",
       "      <th>author_url</th>\n",
       "      <th>year</th>\n",
       "      <th>genre_urls</th>\n",
       "      <th>dir</th>\n",
       "      <th>rating_count</th>\n",
       "      <th>name</th>\n",
       "    </tr>\n",
       "  </thead>\n",
       "  <tbody>\n",
       "    <tr>\n",
       "      <th>3643</th>\n",
       "      <td>NaN</td>\n",
       "      <td>NaN</td>\n",
       "      <td>NaN</td>\n",
       "      <td>NaN</td>\n",
       "      <td>NaN</td>\n",
       "      <td>NaN</td>\n",
       "      <td>NaN</td>\n",
       "      <td>dir37/9658936-harry-potter.html</td>\n",
       "      <td>NaN</td>\n",
       "      <td>NaN</td>\n",
       "    </tr>\n",
       "    <tr>\n",
       "      <th>5282</th>\n",
       "      <td>NaN</td>\n",
       "      <td>NaN</td>\n",
       "      <td>NaN</td>\n",
       "      <td>NaN</td>\n",
       "      <td>NaN</td>\n",
       "      <td>NaN</td>\n",
       "      <td>NaN</td>\n",
       "      <td>dir53/113138.The_Winner.html</td>\n",
       "      <td>NaN</td>\n",
       "      <td>NaN</td>\n",
       "    </tr>\n",
       "  </tbody>\n",
       "</table>\n",
       "</div>"
      ],
      "text/plain": [
       "      rating  review_count isbn booktype author_url  year genre_urls                              dir  rating_count name\n",
       "3643     NaN           NaN  NaN      NaN        NaN   NaN        NaN  dir37/9658936-harry-potter.html           NaN  NaN\n",
       "5282     NaN           NaN  NaN      NaN        NaN   NaN        NaN     dir53/113138.The_Winner.html           NaN  NaN"
      ]
     },
     "execution_count": 20,
     "metadata": {},
     "output_type": "execute_result"
    }
   ],
   "source": [
    "df[df.rating_count.isnull()]"
   ]
  },
  {
   "cell_type": "code",
   "execution_count": 21,
   "metadata": {},
   "outputs": [
    {
     "data": {
      "text/html": [
       "<div>\n",
       "<style scoped>\n",
       "    .dataframe tbody tr th:only-of-type {\n",
       "        vertical-align: middle;\n",
       "    }\n",
       "\n",
       "    .dataframe tbody tr th {\n",
       "        vertical-align: top;\n",
       "    }\n",
       "\n",
       "    .dataframe thead th {\n",
       "        text-align: right;\n",
       "    }\n",
       "</style>\n",
       "<table border=\"1\" class=\"dataframe\">\n",
       "  <thead>\n",
       "    <tr style=\"text-align: right;\">\n",
       "      <th></th>\n",
       "      <th>rating</th>\n",
       "      <th>review_count</th>\n",
       "      <th>isbn</th>\n",
       "      <th>booktype</th>\n",
       "      <th>author_url</th>\n",
       "      <th>year</th>\n",
       "      <th>genre_urls</th>\n",
       "      <th>dir</th>\n",
       "      <th>rating_count</th>\n",
       "      <th>name</th>\n",
       "    </tr>\n",
       "  </thead>\n",
       "  <tbody>\n",
       "    <tr>\n",
       "      <th>3643</th>\n",
       "      <td>NaN</td>\n",
       "      <td>NaN</td>\n",
       "      <td>NaN</td>\n",
       "      <td>NaN</td>\n",
       "      <td>NaN</td>\n",
       "      <td>NaN</td>\n",
       "      <td>NaN</td>\n",
       "      <td>dir37/9658936-harry-potter.html</td>\n",
       "      <td>NaN</td>\n",
       "      <td>NaN</td>\n",
       "    </tr>\n",
       "    <tr>\n",
       "      <th>5282</th>\n",
       "      <td>NaN</td>\n",
       "      <td>NaN</td>\n",
       "      <td>NaN</td>\n",
       "      <td>NaN</td>\n",
       "      <td>NaN</td>\n",
       "      <td>NaN</td>\n",
       "      <td>NaN</td>\n",
       "      <td>dir53/113138.The_Winner.html</td>\n",
       "      <td>NaN</td>\n",
       "      <td>NaN</td>\n",
       "    </tr>\n",
       "  </tbody>\n",
       "</table>\n",
       "</div>"
      ],
      "text/plain": [
       "      rating  review_count isbn booktype author_url  year genre_urls                              dir  rating_count name\n",
       "3643     NaN           NaN  NaN      NaN        NaN   NaN        NaN  dir37/9658936-harry-potter.html           NaN  NaN\n",
       "5282     NaN           NaN  NaN      NaN        NaN   NaN        NaN     dir53/113138.The_Winner.html           NaN  NaN"
      ]
     },
     "execution_count": 21,
     "metadata": {},
     "output_type": "execute_result"
    }
   ],
   "source": [
    "df[df.review_count.isnull()]"
   ]
  },
  {
   "cell_type": "code",
   "execution_count": 22,
   "metadata": {},
   "outputs": [
    {
     "data": {
      "text/html": [
       "<div>\n",
       "<style scoped>\n",
       "    .dataframe tbody tr th:only-of-type {\n",
       "        vertical-align: middle;\n",
       "    }\n",
       "\n",
       "    .dataframe tbody tr th {\n",
       "        vertical-align: top;\n",
       "    }\n",
       "\n",
       "    .dataframe thead th {\n",
       "        text-align: right;\n",
       "    }\n",
       "</style>\n",
       "<table border=\"1\" class=\"dataframe\">\n",
       "  <thead>\n",
       "    <tr style=\"text-align: right;\">\n",
       "      <th></th>\n",
       "      <th>rating</th>\n",
       "      <th>review_count</th>\n",
       "      <th>isbn</th>\n",
       "      <th>booktype</th>\n",
       "      <th>author_url</th>\n",
       "      <th>year</th>\n",
       "      <th>genre_urls</th>\n",
       "      <th>dir</th>\n",
       "      <th>rating_count</th>\n",
       "      <th>name</th>\n",
       "    </tr>\n",
       "  </thead>\n",
       "  <tbody>\n",
       "    <tr>\n",
       "      <th>2442</th>\n",
       "      <td>4.23</td>\n",
       "      <td>526.0</td>\n",
       "      <td>NaN</td>\n",
       "      <td>good_reads:book</td>\n",
       "      <td>https://www.goodreads.com/author/show/623606.A...</td>\n",
       "      <td>NaN</td>\n",
       "      <td>/genres/religion|/genres/islam|/genres/non-fic...</td>\n",
       "      <td>dir25/1301625.La_Tahzan.html</td>\n",
       "      <td>4134.0</td>\n",
       "      <td>La Tahzan</td>\n",
       "    </tr>\n",
       "    <tr>\n",
       "      <th>2869</th>\n",
       "      <td>4.61</td>\n",
       "      <td>2.0</td>\n",
       "      <td>NaN</td>\n",
       "      <td>good_reads:book</td>\n",
       "      <td>https://www.goodreads.com/author/show/8182217....</td>\n",
       "      <td>NaN</td>\n",
       "      <td>NaN</td>\n",
       "      <td>dir29/22031070-my-death-experiences---a-preach...</td>\n",
       "      <td>23.0</td>\n",
       "      <td>My Death Experiences - A Preacherâs 18 Apoca...</td>\n",
       "    </tr>\n",
       "    <tr>\n",
       "      <th>3643</th>\n",
       "      <td>NaN</td>\n",
       "      <td>NaN</td>\n",
       "      <td>NaN</td>\n",
       "      <td>NaN</td>\n",
       "      <td>NaN</td>\n",
       "      <td>NaN</td>\n",
       "      <td>NaN</td>\n",
       "      <td>dir37/9658936-harry-potter.html</td>\n",
       "      <td>NaN</td>\n",
       "      <td>NaN</td>\n",
       "    </tr>\n",
       "    <tr>\n",
       "      <th>5282</th>\n",
       "      <td>NaN</td>\n",
       "      <td>NaN</td>\n",
       "      <td>NaN</td>\n",
       "      <td>NaN</td>\n",
       "      <td>NaN</td>\n",
       "      <td>NaN</td>\n",
       "      <td>NaN</td>\n",
       "      <td>dir53/113138.The_Winner.html</td>\n",
       "      <td>NaN</td>\n",
       "      <td>NaN</td>\n",
       "    </tr>\n",
       "    <tr>\n",
       "      <th>5572</th>\n",
       "      <td>3.71</td>\n",
       "      <td>35.0</td>\n",
       "      <td>8423336603</td>\n",
       "      <td>good_reads:book</td>\n",
       "      <td>https://www.goodreads.com/author/show/285658.E...</td>\n",
       "      <td>NaN</td>\n",
       "      <td>/genres/fiction</td>\n",
       "      <td>dir56/890680._rase_una_vez_el_amor_pero_tuve_q...</td>\n",
       "      <td>403.0</td>\n",
       "      <td>Ãrase una vez el amor pero tuve que matarlo. ...</td>\n",
       "    </tr>\n",
       "    <tr>\n",
       "      <th>5658</th>\n",
       "      <td>4.32</td>\n",
       "      <td>44.0</td>\n",
       "      <td>NaN</td>\n",
       "      <td>good_reads:book</td>\n",
       "      <td>https://www.goodreads.com/author/show/25307.Ro...</td>\n",
       "      <td>NaN</td>\n",
       "      <td>/genres/fantasy|/genres/fantasy|/genres/epic-f...</td>\n",
       "      <td>dir57/5533041-assassin-s-apprentice-royal-assa...</td>\n",
       "      <td>3850.0</td>\n",
       "      <td>Assassin's Apprentice / Royal Assassin (Farsee...</td>\n",
       "    </tr>\n",
       "    <tr>\n",
       "      <th>5683</th>\n",
       "      <td>4.56</td>\n",
       "      <td>204.0</td>\n",
       "      <td>NaN</td>\n",
       "      <td>good_reads:book</td>\n",
       "      <td>https://www.goodreads.com/author/show/3097905....</td>\n",
       "      <td>NaN</td>\n",
       "      <td>/genres/fantasy|/genres/young-adult|/genres/ro...</td>\n",
       "      <td>dir57/12474623-tiger-s-dream.html</td>\n",
       "      <td>895.0</td>\n",
       "      <td>Tiger's Dream (The Tiger Saga, #5)</td>\n",
       "    </tr>\n",
       "  </tbody>\n",
       "</table>\n",
       "</div>"
      ],
      "text/plain": [
       "      rating  review_count        isbn         booktype                                         author_url  year                                         genre_urls                                                dir  rating_count                                               name\n",
       "2442    4.23         526.0         NaN  good_reads:book  https://www.goodreads.com/author/show/623606.A...   NaN  /genres/religion|/genres/islam|/genres/non-fic...                       dir25/1301625.La_Tahzan.html        4134.0                                          La Tahzan\n",
       "2869    4.61           2.0         NaN  good_reads:book  https://www.goodreads.com/author/show/8182217....   NaN                                                NaN  dir29/22031070-my-death-experiences---a-preach...          23.0  My Death Experiences - A Preacherâs 18 Apoca...\n",
       "3643     NaN           NaN         NaN              NaN                                                NaN   NaN                                                NaN                    dir37/9658936-harry-potter.html           NaN                                                NaN\n",
       "5282     NaN           NaN         NaN              NaN                                                NaN   NaN                                                NaN                       dir53/113138.The_Winner.html           NaN                                                NaN\n",
       "5572    3.71          35.0  8423336603  good_reads:book  https://www.goodreads.com/author/show/285658.E...   NaN                                    /genres/fiction  dir56/890680._rase_una_vez_el_amor_pero_tuve_q...         403.0  Ãrase una vez el amor pero tuve que matarlo. ...\n",
       "5658    4.32          44.0         NaN  good_reads:book  https://www.goodreads.com/author/show/25307.Ro...   NaN  /genres/fantasy|/genres/fantasy|/genres/epic-f...  dir57/5533041-assassin-s-apprentice-royal-assa...        3850.0  Assassin's Apprentice / Royal Assassin (Farsee...\n",
       "5683    4.56         204.0         NaN  good_reads:book  https://www.goodreads.com/author/show/3097905....   NaN  /genres/fantasy|/genres/young-adult|/genres/ro...                  dir57/12474623-tiger-s-dream.html         895.0                 Tiger's Dream (The Tiger Saga, #5)"
      ]
     },
     "execution_count": 22,
     "metadata": {},
     "output_type": "execute_result"
    }
   ],
   "source": [
    "df[df.year.isnull()]"
   ]
  },
  {
   "cell_type": "code",
   "execution_count": 23,
   "metadata": {},
   "outputs": [],
   "source": [
    "df = df[df.year.notnull()]\n",
    "df = df[df.rating_count.notnull()]\n",
    "df = df[df.review_count.notnull()]"
   ]
  },
  {
   "cell_type": "code",
   "execution_count": 24,
   "metadata": {},
   "outputs": [
    {
     "data": {
      "text/plain": [
       "(5993, 10)"
      ]
     },
     "execution_count": 24,
     "metadata": {},
     "output_type": "execute_result"
    }
   ],
   "source": [
    "df.shape"
   ]
  },
  {
   "cell_type": "code",
   "execution_count": 25,
   "metadata": {},
   "outputs": [],
   "source": [
    "df['rating_count'] = df.rating_count.astype(int)\n",
    "df['review_count'] = df.review_count.astype(int)\n",
    "df['year'] = df.year.astype(int)"
   ]
  },
  {
   "cell_type": "code",
   "execution_count": 26,
   "metadata": {},
   "outputs": [
    {
     "data": {
      "text/plain": [
       "rating          float64\n",
       "review_count      int64\n",
       "isbn             object\n",
       "booktype         object\n",
       "author_url       object\n",
       "year              int64\n",
       "genre_urls       object\n",
       "dir              object\n",
       "rating_count      int64\n",
       "name             object\n",
       "dtype: object"
      ]
     },
     "execution_count": 26,
     "metadata": {},
     "output_type": "execute_result"
    }
   ],
   "source": [
    "df.dtypes"
   ]
  },
  {
   "cell_type": "markdown",
   "metadata": {},
   "source": [
    "## 6. Visualizing\n",
    "Pandas has a handy built-in visualization."
   ]
  },
  {
   "cell_type": "code",
   "execution_count": 52,
   "metadata": {},
   "outputs": [
    {
     "data": {
      "image/png": "[encoded data removed]",
      "text/plain": [
       "<Figure size 640x480 with 1 Axes>"
      ]
     },
     "metadata": {},
     "output_type": "display_data"
    }
   ],
   "source": [
    "df.rating.hist();"
   ]
  },
  {
   "cell_type": "code",
   "execution_count": 53,
   "metadata": {},
   "outputs": [
    {
     "name": "stdout",
     "output_type": "stream",
     "text": [
      "4.041997330218589 4.041997330218589 4.05\n"
     ]
    },
    {
     "data": {
      "image/png": "[encoded data removed]",
      "text/plain": [
       "<Figure size 640x480 with 1 Axes>"
      ]
     },
     "metadata": {},
     "output_type": "display_data"
    }
   ],
   "source": [
    "import seaborn as sns\n",
    "sns.set_context('notebook')\n",
    "\n",
    "meanrat = df.rating.mean()\n",
    "print(meanrat, np.mean(df.rating), df.rating.median())\n",
    "with sns.axes_style('darkgrid'):\n",
    "    df.rating.hist(bins=30, alpha=0.4);\n",
    "    plt.axvline(meanrat, 0, 0.75, color='r', label='Mean')\n",
    "    plt.xlabel('Average rating of books')\n",
    "    plt.ylabel('Counts')\n",
    "    plt.title('Ratings Histogram')\n",
    "    plt.legend()"
   ]
  },
  {
   "cell_type": "markdown",
   "metadata": {},
   "source": [
    "One can see the sparseness of review counts. This will be important when we learn about recommendations: we'll have to *regularize* our models to deal with it."
   ]
  },
  {
   "cell_type": "code",
   "execution_count": 54,
   "metadata": {},
   "outputs": [
    {
     "data": {
      "image/png": "[encoded data removed]",
      "text/plain": [
       "<Figure size 640x480 with 1 Axes>"
      ]
     },
     "metadata": {},
     "output_type": "display_data"
    }
   ],
   "source": [
    "df.review_count.hist(bins=np.arange(0, 20000, 400));"
   ]
  },
  {
   "cell_type": "code",
   "execution_count": 55,
   "metadata": {},
   "outputs": [
    {
     "data": {
      "image/png": "[encoded data removed]",
      "text/plain": [
       "<Figure size 640x480 with 1 Axes>"
      ]
     },
     "metadata": {},
     "output_type": "display_data"
    }
   ],
   "source": [
    "df.review_count.hist(bins=10000)\n",
    "plt.xscale('log');"
   ]
  },
  {
   "cell_type": "code",
   "execution_count": 57,
   "metadata": {},
   "outputs": [
    {
     "data": {
      "image/png": "[encoded data removed]",
      "text/plain": [
       "<Figure size 640x480 with 1 Axes>"
      ]
     },
     "metadata": {},
     "output_type": "display_data"
    }
   ],
   "source": [
    "with sns.axes_style('darkgrid'):\n",
    "    plt.scatter(df.year, df.rating, lw=0, alpha=.08)\n",
    "    plt.xlim([1900,2010])\n",
    "    plt.xlabel('Year')\n",
    "    plt.ylabel('Rating');"
   ]
  },
  {
   "cell_type": "code",
   "execution_count": null,
   "metadata": {},
   "outputs": [],
   "source": []
  }
 ],
 "metadata": {
  "kernelspec": {
   "display_name": "3py12",
   "language": "python",
   "name": "python3"
  },
  "language_info": {
   "codemirror_mode": {
    "name": "ipython",
    "version": 3
   },
   "file_extension": ".py",
   "mimetype": "text/x-python",
   "name": "python",
   "nbconvert_exporter": "python",
   "pygments_lexer": "ipython3",
   "version": "3.12.5"
  }
 },
 "nbformat": 4,
 "nbformat_minor": 2
}
